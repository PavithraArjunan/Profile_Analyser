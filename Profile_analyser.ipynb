{
  "nbformat": 4,
  "nbformat_minor": 0,
  "metadata": {
    "colab": {
      "provenance": [],
      "authorship_tag": "ABX9TyMRmtOWsYR8CSeX5oRX0Ewl",
      "include_colab_link": true
    },
    "kernelspec": {
      "name": "python3",
      "display_name": "Python 3"
    },
    "language_info": {
      "name": "python"
    }
  },
  "cells": [
    {
      "cell_type": "markdown",
      "metadata": {
        "id": "view-in-github",
        "colab_type": "text"
      },
      "source": [
        "<a href=\"https://colab.research.google.com/github/PavithraArjunan/Profile_Analyser/blob/main/Profile_analyser.ipynb\" target=\"_parent\"><img src=\"https://colab.research.google.com/assets/colab-badge.svg\" alt=\"Open In Colab\"/></a>"
      ]
    },
    {
      "cell_type": "code",
      "execution_count": 2,
      "metadata": {
        "colab": {
          "base_uri": "https://localhost:8080/"
        },
        "id": "OVgwPj53ZEWK",
        "outputId": "b00cda96-705e-4054-e45a-c83d5e3b7b06"
      },
      "outputs": [
        {
          "output_type": "stream",
          "name": "stderr",
          "text": [
            "Device set to use cpu\n"
          ]
        },
        {
          "output_type": "stream",
          "name": "stdout",
          "text": [
            "Loading TinyLlama...\n"
          ]
        },
        {
          "output_type": "stream",
          "name": "stderr",
          "text": [
            "Device set to use cpu\n"
          ]
        },
        {
          "output_type": "stream",
          "name": "stdout",
          "text": [
            "               Name           Job Title       Lead Type  \\\n",
            "0  Pavithra Arjunan    machine learning              AI   \n",
            "1       Rahul Mehra         ai engineer              AI   \n",
            "2       Ananya Iyer    business analyst  Decision Maker   \n",
            "3        Vikram Raj  software developer       Technical   \n",
            "4       Neha Sharma      cloud engineer       Technical   \n",
            "5              Riya      human resource              HR   \n",
            "6              Devi                 ceo  Decision Maker   \n",
            "\n",
            "                                     Generated Email  \n",
            "0  Subject: Vacant Machine Learning Engineer Vaca...  \n",
            "1  Subject: Application for Vacant AI Engineer Ro...  \n",
            "2  Subject: Inquiry regarding Vacant Position for...  \n",
            "3  Subject: Application for the vacant role of So...  \n",
            "4  Subject: Searching for a Cloud Engineer for a ...  \n",
            "5  Subject: Application for Vacant Leadership Pos...  \n",
            "6  Subject: Vacancy for the Position of CEO at De...  \n",
            "\n",
            "✅ Data saved to: linkedin_processed_profiles.csv\n"
          ]
        }
      ],
      "source": [
        "import os\n",
        "import pandas as pd\n",
        "from bs4 import BeautifulSoup\n",
        "import spacy\n",
        "from transformers import pipeline, AutoTokenizer, AutoModelForCausalLM\n",
        "\n",
        "# Try loading the spaCy model\n",
        "try:\n",
        "    nlp = spacy.load(\"en_core_web_sm\")\n",
        "except OSError:\n",
        "    os.system(\"python -m spacy download en_core_web_sm\")\n",
        "    nlp = spacy.load(\"en_core_web_sm\")\n",
        "\n",
        "# === Step 1: Load and parse HTML ===\n",
        "\n",
        "def load_html(filepath):\n",
        "    with open(filepath, \"r\", encoding=\"utf-8\") as file:\n",
        "        return BeautifulSoup(file.read(), \"html.parser\")\n",
        "\n",
        "# === Step 2: Extract structured data from each profile ===\n",
        "\n",
        "def extract_profile_data(profile):\n",
        "    name = profile.find(\"h1\", class_=\"name\").text.strip().lower() if profile.find(\"h1\", class_=\"name\") else \"\"\n",
        "    job_title = profile.find(\"h2\", class_=\"job-title\").text.strip().lower() if profile.find(\"h2\", class_=\"job-title\") else \"\"\n",
        "    company = profile.find(\"p\", class_=\"company\").text.strip().lower() if profile.find(\"p\", class_=\"company\") else \"\"\n",
        "    experience = [li.text.strip().lower() for li in profile.select(\".experience-section ul li\")]\n",
        "    skills = [li.text.strip().lower() for li in profile.select(\".skills-section ul li\")]\n",
        "\n",
        "    return {\n",
        "        \"name\": name,\n",
        "        \"job_title\": job_title,\n",
        "        \"company\": company,\n",
        "        \"experience\": experience,\n",
        "        \"skills\": skills\n",
        "    }\n",
        "\n",
        "# === Step 3: Convert structured data to unstructured text for NLP ===\n",
        "\n",
        "def generate_unstructured_text(profile):\n",
        "    exp = \"; \".join(profile[\"experience\"])\n",
        "    sks = \", \".join(profile[\"skills\"])\n",
        "    return f\"{profile['name']} is currently working as a {profile['job_title']} at {profile['company']}. \" \\\n",
        "           f\"Experience includes: {exp}. Skilled in: {sks}.\"\n",
        "\n",
        "# === Step 4: Perform Named Entity Recognition ===\n",
        "\n",
        "def perform_ner(text):\n",
        "    doc = nlp(text)\n",
        "    return [(ent.text, ent.label_) for ent in doc.ents]\n",
        "\n",
        "# === Step 5: Load HF classifier and define classification function ===\n",
        "\n",
        "# Load a zero-shot classification model\n",
        "classifier = pipeline(\"zero-shot-classification\", model=\"facebook/bart-large-mnli\")\n",
        "\n",
        "# Define candidate labels (categories)\n",
        "CATEGORIES = [\"Decision Maker\", \"HR\", \"Technical\", \"AI\", \"Other\"]\n",
        "\n",
        "def classify_lead(job_title):\n",
        "    if not job_title:\n",
        "        return \"Other\"\n",
        "    result = classifier(job_title, CATEGORIES)\n",
        "    return result[\"labels\"][0]\n",
        "\n",
        "# === Load TinyLlama model for email generation ===\n",
        "\n",
        "print(\"Loading TinyLlama...\", flush=True)\n",
        "model_name = \"TinyLlama/TinyLlama-1.1B-Chat-v1.0\"\n",
        "tokenizer = AutoTokenizer.from_pretrained(model_name)\n",
        "model = AutoModelForCausalLM.from_pretrained(model_name)\n",
        "generator = pipeline(\"text-generation\", model=model, tokenizer=tokenizer)\n",
        "\n",
        "# === Step 6: Process all profiles ===\n",
        "\n",
        "def process_profiles(html_soup):\n",
        "    profiles = html_soup.find_all(\"div\", class_=\"profile\")\n",
        "    data = []\n",
        "\n",
        "    for idx, profile in enumerate(profiles, start=1):\n",
        "        profile_data = extract_profile_data(profile)\n",
        "        unstructured_text = generate_unstructured_text(profile_data)\n",
        "        named_entities = perform_ner(unstructured_text)\n",
        "        lead_type = classify_lead(profile_data[\"job_title\"])\n",
        "\n",
        "        # Prepare prompt variables\n",
        "        Name = profile_data[\"name\"].title()\n",
        "        job_title = profile_data[\"job_title\"]\n",
        "        company = profile_data[\"company\"]\n",
        "        Skills = profile_data[\"skills\"]\n",
        "\n",
        "        # === Generate email using TinyLlama ===\n",
        "        prompt = f\"\"\"\n",
        "I am Kamashi, a professional HR.\n",
        "Write an email for a vacant role to {Name}, who is currently working as a {job_title} at {company}, a CCS company.\n",
        "Include:\n",
        "- Skills related to the job title: {', '.join(Skills) if Skills else 'Not specified'}\n",
        "\"\"\"\n",
        "\n",
        "        formatted_prompt = f\"<|user|>\\n{prompt}\\n<|assistant|>\\n\"\n",
        "        response = generator(formatted_prompt, max_new_tokens=300, do_sample=True, temperature=0.7)\n",
        "\n",
        "        email = response[0][\"generated_text\"].split(\"<|assistant|>\\n\")[-1].strip()\n",
        "\n",
        "        data.append({\n",
        "            \"Name\": Name,\n",
        "            \"Job Title\": job_title,\n",
        "            \"Company\": company,\n",
        "            \"Experience\": profile_data[\"experience\"],\n",
        "            \"Skills\": Skills,\n",
        "            \"Unstructured Text\": unstructured_text,\n",
        "            \"Named Entities\": named_entities,\n",
        "            \"Lead Type\": lead_type,\n",
        "            \"Generated Email\": email\n",
        "        })\n",
        "\n",
        "    return pd.DataFrame(data)\n",
        "\n",
        "# === MAIN ===\n",
        "\n",
        "if __name__ == \"__main__\":\n",
        "    html_path = r\"/content/data.html\"\n",
        "    soup = load_html(html_path)\n",
        "    df = process_profiles(soup)\n",
        "\n",
        "    # Show preview\n",
        "    print(df[[\"Name\", \"Job Title\", \"Lead Type\", \"Generated Email\"]])\n",
        "\n",
        "    # Save to CSV\n",
        "    output_path = \"linkedin_processed_profiles.csv\"\n",
        "    df.to_csv(output_path, index=False)\n",
        "    print(f\"\\n✅ Data saved to: {output_path}\")\n"
      ]
    },
    {
      "cell_type": "code",
      "source": [
        "import numpy as np\n",
        "import pandas as pd\n",
        "import ast\n",
        "from sklearn.model_selection import train_test_split\n",
        "from sklearn.ensemble import RandomForestClassifier\n",
        "from sklearn.preprocessing import LabelEncoder\n",
        "from sklearn.metrics import classification_report\n",
        "from sklearn.cluster import KMeans\n",
        "from sklearn.decomposition import PCA\n",
        "import matplotlib.pyplot as plt\n",
        "from textblob import TextBlob\n",
        "import random\n",
        "\n",
        "\n",
        "# === 1. Load pre-processed CSV ===\n",
        "df = pd.read_csv(\"/content/linkedin_processed_profiles.csv\")\n",
        "\n",
        "lead_types = ['AI', 'Technical', 'HR', 'Decision Maker']\n",
        "new_rows = []\n",
        "\n",
        "for _ in range(100):\n",
        "    sc = random.randint(2, 10)\n",
        "    ec = random.randint(1, 5)\n",
        "    lt = random.choice(lead_types)\n",
        "    new_rows.append({'skill_count': sc, 'exp_count': ec, 'lead_type_code': lead_types.index(lt)})\n",
        "\n",
        "synthetic_df = pd.DataFrame(new_rows)\n",
        "X = synthetic_df[['skill_count', 'exp_count']]\n",
        "y = synthetic_df['lead_type_code']\n",
        "\n",
        "# Train-test split\n",
        "from sklearn.model_selection import train_test_split\n",
        "X_train, X_test, y_train, y_test = train_test_split(X, y, test_size=0.2, random_state=42)\n",
        "\n",
        "# Train model\n",
        "model = RandomForestClassifier()\n",
        "model.fit(X_train, y_train)\n",
        "y_pred = model.predict(X_test)\n",
        "\n",
        "# Evaluate\n",
        "from sklearn.metrics import classification_report\n",
        "print(classification_report(y_test, y_pred))\n",
        "\n",
        "# Feature importance\n",
        "import matplotlib.pyplot as plt\n",
        "importances = model.feature_importances_\n",
        "plt.barh(['Skill Count', 'Experience Count'], importances)\n",
        "plt.title(\"Feature Importance (with Synthetic Data)\")\n",
        "plt.show()\n"
      ],
      "metadata": {
        "colab": {
          "base_uri": "https://localhost:8080/",
          "height": 655
        },
        "id": "akKuI-e6ZL0k",
        "outputId": "563ab517-6a33-4013-dbed-36930648fc8a"
      },
      "execution_count": 3,
      "outputs": [
        {
          "output_type": "stream",
          "name": "stdout",
          "text": [
            "              precision    recall  f1-score   support\n",
            "\n",
            "           0       0.50      0.43      0.46         7\n",
            "           1       0.17      0.25      0.20         4\n",
            "           2       0.20      0.25      0.22         4\n",
            "           3       0.33      0.20      0.25         5\n",
            "\n",
            "    accuracy                           0.30        20\n",
            "   macro avg       0.30      0.28      0.28        20\n",
            "weighted avg       0.33      0.30      0.31        20\n",
            "\n"
          ]
        },
        {
          "output_type": "display_data",
          "data": {
            "text/plain": [
              "<Figure size 640x480 with 1 Axes>"
            ],
            "image/png": "[encoded data removed]"
          },
          "metadata": {}
        }
      ]
    },
    {
      "cell_type": "code",
      "source": [
        "\n",
        "# 4. DATA PIPELINE SIMULATION\n",
        "print(\"\\n🔄 Simulating Data Sync & Deduplication...\")\n",
        "\n",
        "# Simulated new data pull\n",
        "new_data = df.sample(2).copy()\n",
        "new_data.iloc[0, 0] = \"New Lead A\"\n",
        "new_data.iloc[1, 0] = \"New Lead B\"\n",
        "\n",
        "# Deduplication based on Name\n",
        "combined_df = pd.concat([df, new_data])\n",
        "deduplicated_df = combined_df.drop_duplicates(subset=[\"Name\"], keep=\"first\")\n",
        "\n",
        "print(f\"Original rows: {len(df)}, After merge: {len(combined_df)}, After deduplication: {len(deduplicated_df)}\")"
      ],
      "metadata": {
        "colab": {
          "base_uri": "https://localhost:8080/"
        },
        "id": "RV3koEZEbX-r",
        "outputId": "1c7cdce9-65e6-443f-c0f5-0780588fd629"
      },
      "execution_count": 4,
      "outputs": [
        {
          "output_type": "stream",
          "name": "stdout",
          "text": [
            "\n",
            "🔄 Simulating Data Sync & Deduplication...\n",
            "Original rows: 7, After merge: 9, After deduplication: 9\n"
          ]
        }
      ]
    },
    {
      "cell_type": "code",
      "source": [
        "import pandas as pd\n",
        "from sklearn.cluster import KMeans\n",
        "from sklearn.decomposition import PCA\n",
        "import matplotlib.pyplot as plt\n",
        "import ast\n",
        "\n",
        "# Convert string representations of lists into real lists\n",
        "df['Skills'] = df['Skills'].apply(ast.literal_eval)\n",
        "df['Experience'] = df['Experience'].apply(ast.literal_eval)\n",
        "\n",
        "# Now apply len()\n",
        "df['skill_count'] = df['Skills'].apply(len)\n",
        "df['exp_count'] = df['Experience'].apply(len)\n",
        "\n",
        "# Step 2: Features for clustering\n",
        "cluster_features = df[['skill_count', 'exp_count']]\n",
        "\n",
        "# Step 3: KMeans Clustering\n",
        "kmeans = KMeans(n_clusters=3, random_state=0)\n",
        "df['Cluster'] = kmeans.fit_predict(cluster_features)\n",
        "\n",
        "# Step 4: Visualization using PCA\n",
        "pca = PCA(n_components=2)\n",
        "components = pca.fit_transform(cluster_features)\n",
        "\n",
        "plt.figure(figsize=(6, 5))\n",
        "plt.scatter(components[:, 0], components[:, 1], c=df['Cluster'], cmap='rainbow')\n",
        "plt.title(\"Client Segments (KMeans + PCA)\")\n",
        "plt.xlabel(\"PCA 1\")\n",
        "plt.ylabel(\"PCA 2\")\n",
        "plt.grid(True)\n",
        "plt.show()\n"
      ],
      "metadata": {
        "id": "I_sv8iIQZL3b",
        "colab": {
          "base_uri": "https://localhost:8080/",
          "height": 581
        },
        "outputId": "5642da14-1bad-4f7f-bfdb-fa3a0198ea1c"
      },
      "execution_count": 5,
      "outputs": [
        {
          "output_type": "stream",
          "name": "stderr",
          "text": [
            "/usr/local/lib/python3.11/dist-packages/sklearn/base.py:1389: ConvergenceWarning: Number of distinct clusters (1) found smaller than n_clusters (3). Possibly due to duplicate points in X.\n",
            "  return fit_method(estimator, *args, **kwargs)\n",
            "/usr/local/lib/python3.11/dist-packages/sklearn/decomposition/_pca.py:648: RuntimeWarning: invalid value encountered in divide\n",
            "  explained_variance_ratio_ = explained_variance_ / total_var\n"
          ]
        },
        {
          "output_type": "display_data",
          "data": {
            "text/plain": [
              "<Figure size 600x500 with 1 Axes>"
            ],
            "image/png": "[encoded data removed]"
          },
          "metadata": {}
        }
      ]
    },
    {
      "cell_type": "code",
      "source": [
        "#  6. SENTIMENT ANALYSIS ON EMAILS\n",
        "print(\"\\n Analyzing Sentiment of Generated Emails...\")\n",
        "\n",
        "def get_sentiment(text):\n",
        "    blob = TextBlob(str(text))\n",
        "    polarity = blob.sentiment.polarity\n",
        "    if polarity > 0.1:\n",
        "        return \"Positive\"\n",
        "    elif polarity < -0.1:\n",
        "        return \"Negative\"\n",
        "    else:\n",
        "        return \"Neutral\"\n",
        "\n",
        "df['Email Sentiment'] = df['Generated Email'].apply(get_sentiment)\n",
        "\n",
        "# Print sentiment counts\n",
        "print(df['Email Sentiment'].value_counts())\n",
        "\n",
        "# Save updated file\n",
        "df.to_csv(\"/content/final_linkedin_analysis.csv\", index=False)\n",
        "print(\"Final file saved as: /content/final_linkedin_analysis.csv\")"
      ],
      "metadata": {
        "id": "UvkYX8yGZL6V",
        "colab": {
          "base_uri": "https://localhost:8080/"
        },
        "outputId": "c3589f5e-bf80-49dc-b458-4dd42ad1bc35"
      },
      "execution_count": 6,
      "outputs": [
        {
          "output_type": "stream",
          "name": "stdout",
          "text": [
            "\n",
            " Analyzing Sentiment of Generated Emails...\n",
            "Email Sentiment\n",
            "Positive    6\n",
            "Neutral     1\n",
            "Name: count, dtype: int64\n",
            "Final file saved as: /content/final_linkedin_analysis.csv\n"
          ]
        }
      ]
    },
    {
      "cell_type": "code",
      "source": [],
      "metadata": {
        "id": "kuw9ptTRZL9K"
      },
      "execution_count": null,
      "outputs": []
    },
    {
      "cell_type": "code",
      "source": [],
      "metadata": {
        "id": "vvHjWoRbZMAC"
      },
      "execution_count": null,
      "outputs": []
    }
  ]
}